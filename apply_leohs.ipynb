{
 "cells": [
  {
   "cell_type": "markdown",
   "id": "1139f716",
   "metadata": {},
   "source": [
    "## LEOHS Apply Harmonization Tool\n",
    "This script applies harmonization equations to either multiband Landsat images or a directory containing Landsat images."
   ]
  },
  {
   "cell_type": "code",
   "execution_count": 1,
   "id": "18690650",
   "metadata": {},
   "outputs": [],
   "source": [
    "import os,re\n",
    "import pandas as pd\n",
    "import rasterio #Please note the image writing settings \n",
    "import numpy as np"
   ]
  },
  {
   "cell_type": "code",
   "execution_count": 2,
   "id": "cb91aa71",
   "metadata": {},
   "outputs": [],
   "source": [
    "Landsat_image_or_dir=r'E:\\GIS\\Landsat Normalization\\GLAD\\L7_turkey.tif'\n",
    "#can be either an image path or dir path. Images need to be 6 band rasters.\n",
    "input_harmonization=\"\"\"\n",
    "B: LS8 = 0.9347LS7 - 0.0094\n",
    "G: LS8 = 0.9305LS7 - 0.0048\n",
    "R: LS8 = 0.9301LS7 - 0.0055\n",
    "NIR: LS8 = 0.9685LS7 + 0.0016\n",
    "SWIR1: LS8 = 0.9460LS7 - 0.0005\n",
    "SWIR2: LS8 = 0.9284LS7 + 0.0032\n",
    "\n",
    "\"\"\" #copy equations from textfile into a raw string like this"
   ]
  },
  {
   "cell_type": "code",
   "execution_count": 3,
   "id": "fa606476",
   "metadata": {},
   "outputs": [],
   "source": [
    "def detect_conversion_direction(text_block):\n",
    "    first_line = text_block.strip().splitlines()[0]\n",
    "    if \"LS8 =\" in first_line:\n",
    "        return \"2L8\"\n",
    "    elif \"LS7 =\" in first_line:\n",
    "        return \"2L7\"\n",
    "    else:\n",
    "        return \"Unknown\"\n",
    "def parse_harmonization_text(text_block):\n",
    "    data = []\n",
    "    for line in text_block.strip().splitlines():\n",
    "        parts = line.strip().split(': ')\n",
    "        if len(parts) < 2 or '=' not in parts[1]:\n",
    "            continue  # Skip malformed lines\n",
    "        band = parts[0]\n",
    "        equation = parts[1]\n",
    "        _, right = equation.split(' = ')\n",
    "        match = re.match(r'([+-]?\\d*\\.?\\d+)([A-Za-z0-9_]+)\\s*([+-])\\s*(\\d*\\.?\\d+)', right)\n",
    "        if match:\n",
    "            slope = float(match.group(1))\n",
    "            sign = 1 if match.group(3) == '+' else -1\n",
    "            intercept = sign * float(match.group(4))\n",
    "            data.append([band, slope, intercept])\n",
    "    df = pd.DataFrame(data, columns=['Band', 'Slope', 'Intercept'])\n",
    "    return df\n",
    "def apply_harmonization(input_harmonization, input_path):\n",
    "    if os.path.isdir(input_path):\n",
    "        images = [os.path.join(input_path, f) for f in os.listdir(input_path) if f.endswith(\".tif\")]\n",
    "        print(\"Found .tif files:\", [os.path.basename(f) for f in images])\n",
    "    elif os.path.isfile(input_path) and input_path.endswith(\".tif\"):\n",
    "        images = [input_path]\n",
    "    else:\n",
    "        print(\"Invalid input path\")\n",
    "        return\n",
    "    conversion_prefix = detect_conversion_direction(input_harmonization)\n",
    "    print(f'Converting images {conversion_prefix}')\n",
    "    df = parse_harmonization_text(input_harmonization)\n",
    "    print(df)\n",
    "\n",
    "    for landsat_image in images:\n",
    "        filename = os.path.basename(landsat_image)\n",
    "        print(f\"Processing {filename}\")\n",
    "        with rasterio.open(landsat_image) as src:\n",
    "            meta = src.meta.copy()\n",
    "            bands = src.count\n",
    "            nodata_value = meta.get('nodata')\n",
    "            output_data = np.zeros((bands, meta['height'], meta['width']), dtype=np.float32)\n",
    "            for i in range(bands):\n",
    "                band_name = df.iloc[i]['Band']\n",
    "                slope = df.iloc[i]['Slope']\n",
    "                intercept = df.iloc[i]['Intercept']\n",
    "                band_data = src.read(i + 1).astype(np.float32)\n",
    "                # Scale if max pixel value > 1000\n",
    "                max_pixel = np.nanmax(band_data)\n",
    "                if max_pixel > 1000:\n",
    "                    print(f\"Scaling band {band_name}\")\n",
    "                    meta.update(dtype='float32')\n",
    "                    band_data = band_data * 0.0000275 - 0.2\n",
    "                if nodata_value is not None:\n",
    "                    mask = band_data == nodata_value\n",
    "                    band_data = np.where(mask, np.nan, band_data * slope + intercept)\n",
    "                    band_data = np.where(np.isnan(band_data), nodata_value, band_data)\n",
    "                else:\n",
    "                    band_data = band_data * slope + intercept\n",
    "                band_data = np.where((band_data < 0) | (band_data > 1), -1, band_data)\n",
    "                output_data[i] = band_data\n",
    "                print(f\"Processed band {band_name} and preserved no data pixels\")\n",
    "            output_filename = os.path.join(os.path.dirname(landsat_image), f\"{conversion_prefix}_{filename}\")\n",
    "            ###Note the image writing settings###\n",
    "            meta.update(nodata = -1,compress='zstd',predictor=2,\n",
    "                tiled=True,blockxsize=512,blockysize=512,NUM_THREADS='ALL_CPUS',bigtiff='YES')\n",
    "            with rasterio.open(output_filename, 'w', **meta) as dst:\n",
    "                for i in range(bands):\n",
    "                    dst.write(output_data[i], i + 1)\n",
    "\n",
    "            print(f\"Saved harmonized image as {output_filename}\")"
   ]
  },
  {
   "cell_type": "code",
   "execution_count": 4,
   "id": "545d033d",
   "metadata": {},
   "outputs": [
    {
     "name": "stdout",
     "output_type": "stream",
     "text": [
      "Converting images 2L8\n",
      "    Band   Slope  Intercept\n",
      "0      B  0.9347    -0.0094\n",
      "1      G  0.9305    -0.0048\n",
      "2      R  0.9301    -0.0055\n",
      "3    NIR  0.9685     0.0016\n",
      "4  SWIR1  0.9460    -0.0005\n",
      "5  SWIR2  0.9284     0.0032\n",
      "Processing L7_turkey.tif\n",
      "Scaling band B\n",
      "Processed band B and preserved no data pixels\n",
      "Scaling band G\n",
      "Processed band G and preserved no data pixels\n",
      "Scaling band R\n",
      "Processed band R and preserved no data pixels\n",
      "Scaling band NIR\n",
      "Processed band NIR and preserved no data pixels\n",
      "Scaling band SWIR1\n",
      "Processed band SWIR1 and preserved no data pixels\n",
      "Scaling band SWIR2\n",
      "Processed band SWIR2 and preserved no data pixels\n",
      "Saved harmonized image as E:\\GIS\\Landsat Normalization\\GLAD\\2L8_L7_turkey.tif\n"
     ]
    }
   ],
   "source": [
    "apply_harmonization(input_harmonization, Landsat_image_or_dir)"
   ]
  },
  {
   "cell_type": "code",
   "execution_count": null,
   "id": "222cb0ea",
   "metadata": {},
   "outputs": [],
   "source": []
  },
  {
   "cell_type": "code",
   "execution_count": 16,
   "id": "99420616",
   "metadata": {},
   "outputs": [
    {
     "name": "stdout",
     "output_type": "stream",
     "text": [
      "Saved unscaled reflectance image as E:\\GIS\\Landsat Normalization\\GLAD\\GLAD_turkey_reflectance.tif\n"
     ]
    }
   ],
   "source": []
  },
  {
   "cell_type": "code",
   "execution_count": null,
   "id": "5b2f56c2",
   "metadata": {},
   "outputs": [],
   "source": []
  }
 ],
 "metadata": {
  "kernelspec": {
   "display_name": "Python 3 (ipykernel)",
   "language": "python",
   "name": "python3"
  },
  "language_info": {
   "codemirror_mode": {
    "name": "ipython",
    "version": 3
   },
   "file_extension": ".py",
   "mimetype": "text/x-python",
   "name": "python",
   "nbconvert_exporter": "python",
   "pygments_lexer": "ipython3",
   "version": "3.10.13"
  }
 },
 "nbformat": 4,
 "nbformat_minor": 5
}
